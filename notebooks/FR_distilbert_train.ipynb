{
 "cells": [
  {
   "cell_type": "code",
   "execution_count": 29,
   "metadata": {},
   "outputs": [],
   "source": [
    "import time\n",
    "import os\n",
    "import numpy as np\n",
    "import pandas as pd\n",
    "import torch\n",
    "import matplotlib.pyplot as plt\n",
    "from transformers import DistilBertTokenizer, DistilBertForSequenceClassification\n",
    "from torch.utils.data import DataLoader, TensorDataset\n",
    "from plot_keras_history import show_history, plot_history\n",
    "from tqdm import tqdm"
   ]
  },
  {
   "cell_type": "code",
   "execution_count": 30,
   "metadata": {},
   "outputs": [
    {
     "name": "stdout",
     "output_type": "stream",
     "text": [
      "numpy - 1.26.3\n",
      "pandas - 2.2.2\n",
      "torch - 2.3.0+cu118\n"
     ]
    }
   ],
   "source": [
    "# Version of the libraries used\n",
    "print('\\n'.join(f'{m.__name__} - {m.__version__}'\n",
    "                for m in globals().values()\n",
    "                if getattr(m, '__version__', None)))"
   ]
  },
  {
   "cell_type": "markdown",
   "metadata": {},
   "source": [
    "---"
   ]
  },
  {
   "cell_type": "markdown",
   "metadata": {},
   "source": [
    "### **Emotions Labels :**\n",
    "- 0 : Sadness\n",
    "- 1 : Joy \n",
    "- 2 : Love\n",
    "- 3 : Anger\n",
    "- 4 : Fear\n",
    "- 5 : Surprise"
   ]
  },
  {
   "cell_type": "code",
   "execution_count": 31,
   "metadata": {},
   "outputs": [],
   "source": [
    "# Loading the dataset\n",
    "df = pd.read_csv('../data/text.csv')"
   ]
  },
  {
   "cell_type": "code",
   "execution_count": 32,
   "metadata": {},
   "outputs": [
    {
     "data": {
      "text/html": [
       "<div>\n",
       "<style scoped>\n",
       "    .dataframe tbody tr th:only-of-type {\n",
       "        vertical-align: middle;\n",
       "    }\n",
       "\n",
       "    .dataframe tbody tr th {\n",
       "        vertical-align: top;\n",
       "    }\n",
       "\n",
       "    .dataframe thead th {\n",
       "        text-align: right;\n",
       "    }\n",
       "</style>\n",
       "<table border=\"1\" class=\"dataframe\">\n",
       "  <thead>\n",
       "    <tr style=\"text-align: right;\">\n",
       "      <th></th>\n",
       "      <th>Unnamed: 0</th>\n",
       "      <th>text</th>\n",
       "      <th>label</th>\n",
       "    </tr>\n",
       "  </thead>\n",
       "  <tbody>\n",
       "    <tr>\n",
       "      <th>0</th>\n",
       "      <td>0</td>\n",
       "      <td>i just feel really helpless and heavy hearted</td>\n",
       "      <td>4</td>\n",
       "    </tr>\n",
       "    <tr>\n",
       "      <th>1</th>\n",
       "      <td>1</td>\n",
       "      <td>ive enjoyed being able to slouch about relax a...</td>\n",
       "      <td>0</td>\n",
       "    </tr>\n",
       "    <tr>\n",
       "      <th>2</th>\n",
       "      <td>2</td>\n",
       "      <td>i gave up my internship with the dmrg and am f...</td>\n",
       "      <td>4</td>\n",
       "    </tr>\n",
       "    <tr>\n",
       "      <th>3</th>\n",
       "      <td>3</td>\n",
       "      <td>i dont know i feel so lost</td>\n",
       "      <td>0</td>\n",
       "    </tr>\n",
       "    <tr>\n",
       "      <th>4</th>\n",
       "      <td>4</td>\n",
       "      <td>i am a kindergarten teacher and i am thoroughl...</td>\n",
       "      <td>4</td>\n",
       "    </tr>\n",
       "  </tbody>\n",
       "</table>\n",
       "</div>"
      ],
      "text/plain": [
       "   Unnamed: 0                                               text  label\n",
       "0           0      i just feel really helpless and heavy hearted      4\n",
       "1           1  ive enjoyed being able to slouch about relax a...      0\n",
       "2           2  i gave up my internship with the dmrg and am f...      4\n",
       "3           3                         i dont know i feel so lost      0\n",
       "4           4  i am a kindergarten teacher and i am thoroughl...      4"
      ]
     },
     "execution_count": 32,
     "metadata": {},
     "output_type": "execute_result"
    }
   ],
   "source": [
    "df.head(5)"
   ]
  },
  {
   "cell_type": "code",
   "execution_count": 33,
   "metadata": {},
   "outputs": [
    {
     "data": {
      "text/html": [
       "<div>\n",
       "<style scoped>\n",
       "    .dataframe tbody tr th:only-of-type {\n",
       "        vertical-align: middle;\n",
       "    }\n",
       "\n",
       "    .dataframe tbody tr th {\n",
       "        vertical-align: top;\n",
       "    }\n",
       "\n",
       "    .dataframe thead th {\n",
       "        text-align: right;\n",
       "    }\n",
       "</style>\n",
       "<table border=\"1\" class=\"dataframe\">\n",
       "  <thead>\n",
       "    <tr style=\"text-align: right;\">\n",
       "      <th></th>\n",
       "      <th>text</th>\n",
       "      <th>label</th>\n",
       "    </tr>\n",
       "  </thead>\n",
       "  <tbody>\n",
       "    <tr>\n",
       "      <th>0</th>\n",
       "      <td>i just feel really helpless and heavy hearted</td>\n",
       "      <td>4</td>\n",
       "    </tr>\n",
       "    <tr>\n",
       "      <th>1</th>\n",
       "      <td>ive enjoyed being able to slouch about relax a...</td>\n",
       "      <td>0</td>\n",
       "    </tr>\n",
       "    <tr>\n",
       "      <th>2</th>\n",
       "      <td>i gave up my internship with the dmrg and am f...</td>\n",
       "      <td>4</td>\n",
       "    </tr>\n",
       "    <tr>\n",
       "      <th>3</th>\n",
       "      <td>i dont know i feel so lost</td>\n",
       "      <td>0</td>\n",
       "    </tr>\n",
       "    <tr>\n",
       "      <th>4</th>\n",
       "      <td>i am a kindergarten teacher and i am thoroughl...</td>\n",
       "      <td>4</td>\n",
       "    </tr>\n",
       "    <tr>\n",
       "      <th>...</th>\n",
       "      <td>...</td>\n",
       "      <td>...</td>\n",
       "    </tr>\n",
       "    <tr>\n",
       "      <th>416804</th>\n",
       "      <td>i feel like telling these horny devils to find...</td>\n",
       "      <td>2</td>\n",
       "    </tr>\n",
       "    <tr>\n",
       "      <th>416805</th>\n",
       "      <td>i began to realize that when i was feeling agi...</td>\n",
       "      <td>3</td>\n",
       "    </tr>\n",
       "    <tr>\n",
       "      <th>416806</th>\n",
       "      <td>i feel very curious be why previous early dawn...</td>\n",
       "      <td>5</td>\n",
       "    </tr>\n",
       "    <tr>\n",
       "      <th>416807</th>\n",
       "      <td>i feel that becuase of the tyranical nature of...</td>\n",
       "      <td>3</td>\n",
       "    </tr>\n",
       "    <tr>\n",
       "      <th>416808</th>\n",
       "      <td>i think that after i had spent some time inves...</td>\n",
       "      <td>5</td>\n",
       "    </tr>\n",
       "  </tbody>\n",
       "</table>\n",
       "<p>416809 rows × 2 columns</p>\n",
       "</div>"
      ],
      "text/plain": [
       "                                                     text  label\n",
       "0           i just feel really helpless and heavy hearted      4\n",
       "1       ive enjoyed being able to slouch about relax a...      0\n",
       "2       i gave up my internship with the dmrg and am f...      4\n",
       "3                              i dont know i feel so lost      0\n",
       "4       i am a kindergarten teacher and i am thoroughl...      4\n",
       "...                                                   ...    ...\n",
       "416804  i feel like telling these horny devils to find...      2\n",
       "416805  i began to realize that when i was feeling agi...      3\n",
       "416806  i feel very curious be why previous early dawn...      5\n",
       "416807  i feel that becuase of the tyranical nature of...      3\n",
       "416808  i think that after i had spent some time inves...      5\n",
       "\n",
       "[416809 rows x 2 columns]"
      ]
     },
     "execution_count": 33,
     "metadata": {},
     "output_type": "execute_result"
    }
   ],
   "source": [
    "df = df.drop(\"Unnamed: 0\", axis=1)\n",
    "df"
   ]
  },
  {
   "cell_type": "code",
   "execution_count": 34,
   "metadata": {},
   "outputs": [
    {
     "name": "stdout",
     "output_type": "stream",
     "text": [
      "<class 'pandas.core.frame.DataFrame'>\n",
      "RangeIndex: 416809 entries, 0 to 416808\n",
      "Data columns (total 2 columns):\n",
      " #   Column  Non-Null Count   Dtype \n",
      "---  ------  --------------   ----- \n",
      " 0   text    416809 non-null  object\n",
      " 1   label   416809 non-null  int64 \n",
      "dtypes: int64(1), object(1)\n",
      "memory usage: 6.4+ MB\n"
     ]
    }
   ],
   "source": [
    "df.info()"
   ]
  },
  {
   "cell_type": "code",
   "execution_count": 35,
   "metadata": {},
   "outputs": [
    {
     "data": {
      "text/plain": [
       "text     416809\n",
       "label    416809\n",
       "dtype: int64"
      ]
     },
     "execution_count": 35,
     "metadata": {},
     "output_type": "execute_result"
    }
   ],
   "source": [
    "df.isna().count()"
   ]
  },
  {
   "cell_type": "code",
   "execution_count": 36,
   "metadata": {},
   "outputs": [
    {
     "data": {
      "image/png": "[encoded data removed]",
      "text/plain": [
       "<Figure size 800x600 with 1 Axes>"
      ]
     },
     "metadata": {},
     "output_type": "display_data"
    }
   ],
   "source": [
    "# Creating a dictionary to map numbers to emotion names\n",
    "emotion_dict = {0: 'Sadness', 1: 'Joy', 2: 'Love', 3: 'Anger', 4: 'Fear', 5: 'Surprise'}\n",
    "\n",
    "# Replacing numbers with emotion names in labels\n",
    "labels = df['label'].replace(emotion_dict)\n",
    "\n",
    "# Creating a pie chart to see the distribution of emotions in the dataset\n",
    "plt.figure(figsize=(8,6))\n",
    "plt.pie(labels.value_counts(), labels=labels.unique(), autopct='%1.1f%%')\n",
    "plt.title('Distribution of emotions')\n",
    "plt.show()"
   ]
  },
  {
   "cell_type": "markdown",
   "metadata": {},
   "source": [
    "We see that the label column which is our target is unbalanced so we will use a weight redistribution to rebalance the importance of the labels in the dataset."
   ]
  },
  {
   "cell_type": "markdown",
   "metadata": {},
   "source": [
    "---"
   ]
  },
  {
   "cell_type": "markdown",
   "metadata": {},
   "source": [
    "#### **We are going to translate en to fr**\n",
    "\n",
    "**[If you already have your fr_text (your french text don't run the translate cells)]**"
   ]
  },
  {
   "cell_type": "code",
   "execution_count": null,
   "metadata": {},
   "outputs": [],
   "source": [
    "from transformers import MarianMTModel, MarianTokenizer"
   ]
  },
  {
   "cell_type": "code",
   "execution_count": null,
   "metadata": {},
   "outputs": [],
   "source": [
    "def translate_to_french(text):\n",
    "    model_name = 'Helsinki-NLP/opus-mt-en-fr'\n",
    "    tokenizer = MarianTokenizer.from_pretrained(model_name)\n",
    "    model = MarianMTModel.from_pretrained(model_name)\n",
    "    \n",
    "    # Use GPU if available\n",
    "    device = torch.device(\"cuda\" if torch.cuda.is_available() else \"cpu\")\n",
    "    model.to(device)\n",
    "\n",
    "    # Tokenize the text\n",
    "    batch = tokenizer.encode(text, return_tensors=\"pt\").to(device)\n",
    "    # Run the model and get the translation\n",
    "    translated = model.generate(batch)\n",
    "    # Decode the translation\n",
    "    return tokenizer.decode(translated[0], skip_special_tokens=True)"
   ]
  },
  {
   "cell_type": "code",
   "execution_count": null,
   "metadata": {},
   "outputs": [],
   "source": [
    "# Initialization of DataFrames for training, validation and testing\n",
    "train_df = pd.DataFrame()\n",
    "validation_df = pd.DataFrame()\n",
    "test_df = pd.DataFrame()\n",
    "\n",
    "# For each class, collect samples for training, for validation and for testing\n",
    "for label in df['label'].unique():\n",
    "    class_df = df[df['label'] == label]\n",
    "    \n",
    "    train_class_df = class_df.sample(n=500, random_state=5)\n",
    "    remaining_class_df = class_df.drop(train_class_df.index)\n",
    "    \n",
    "    validation_class_df = remaining_class_df.sample(n=100, random_state=5)\n",
    "    remaining_class_df = remaining_class_df.drop(validation_class_df.index)\n",
    "    \n",
    "    test_class_df = remaining_class_df.sample(n=100, random_state=5)\n",
    "    \n",
    "    # Apply the translation function to each line of the 'text' column for each sample\n",
    "    train_class_df['text'] = [translate_to_french(text) for text in tqdm(train_class_df['text'])]\n",
    "    validation_class_df['text'] = [translate_to_french(text) for text in tqdm(validation_class_df['text'])]\n",
    "    test_class_df['text'] = [translate_to_french(text) for text in tqdm(test_class_df['text'])]\n",
    "    \n",
    "    train_df = pd.concat([train_df, train_class_df])\n",
    "    validation_df = pd.concat([validation_df, validation_class_df])\n",
    "    test_df = pd.concat([test_df, test_class_df])\n",
    "\n",
    "# Save the DataFrames to CSV files\n",
    "train_df.to_csv('../data/fr_text/fr_train.csv', index=False)\n",
    "validation_df.to_csv('../data/fr_text/fr_validation.csv', index=False)\n",
    "test_df.to_csv('../data/fr_text/fr_test.csv', index=False)\n",
    "\n",
    "# Training data preparation\n",
    "train_texts, train_labels = train_df['text'], train_df['label']\n",
    "\n",
    "# Validation data preparation\n",
    "validation_texts, validation_labels = validation_df['text'], validation_df['label']\n",
    "\n",
    "# Test data preparation\n",
    "test_texts, test_labels = test_df['text'], test_df['label']\n",
    "\n",
    "# Print the number of samples per class for each dataset\n",
    "print(\"Total number of samples per class:\")\n",
    "print(\"Training :\")\n",
    "print(train_df['label'].value_counts())\n",
    "print(\"Validation :\")\n",
    "print(validation_df['label'].value_counts())\n",
    "print(\"Test :\")\n",
    "print(test_df['label'].value_counts())"
   ]
  },
  {
   "cell_type": "code",
   "execution_count": null,
   "metadata": {},
   "outputs": [],
   "source": [
    "train_df['text'].head()"
   ]
  },
  {
   "cell_type": "markdown",
   "metadata": {},
   "source": [
    "As the smallest class has only 15,000 samples (3.6%) we can then randomly take 500 samples for each class to rebalance the dataset.\n",
    "We take small sample because we have to translate them and it takes time."
   ]
  },
  {
   "cell_type": "markdown",
   "metadata": {},
   "source": [
    "---"
   ]
  },
  {
   "cell_type": "code",
   "execution_count": 74,
   "metadata": {},
   "outputs": [
    {
     "name": "stdout",
     "output_type": "stream",
     "text": [
      "Total number of samples per class:\n",
      "Training :\n",
      "label\n",
      "4    500\n",
      "0    500\n",
      "2    500\n",
      "1    500\n",
      "5    500\n",
      "3    500\n",
      "Name: count, dtype: int64\n",
      "Validation :\n",
      "label\n",
      "4    100\n",
      "0    100\n",
      "2    100\n",
      "1    100\n",
      "5    100\n",
      "3    100\n",
      "Name: count, dtype: int64\n",
      "Test :\n",
      "label\n",
      "4    100\n",
      "0    100\n",
      "2    100\n",
      "1    100\n",
      "5    100\n",
      "3    100\n",
      "Name: count, dtype: int64\n"
     ]
    }
   ],
   "source": [
    "# Initialization of DataFrames for training, validation and testing\n",
    "train_df = pd.DataFrame()\n",
    "validation_df = pd.DataFrame()\n",
    "test_df = pd.DataFrame()\n",
    "\n",
    "# For each class, collect samples for training, for validation and for testing\n",
    "for label in df['label'].unique():\n",
    "    class_df = df[df['label'] == label]\n",
    "    \n",
    "    train_class_df = class_df.sample(n=500, random_state=5)\n",
    "    remaining_class_df = class_df.drop(train_class_df.index)\n",
    "    \n",
    "    validation_class_df = remaining_class_df.sample(n=100, random_state=5)\n",
    "    remaining_class_df = remaining_class_df.drop(validation_class_df.index)\n",
    "    \n",
    "    test_class_df = remaining_class_df.sample(n=100, random_state=5)\n",
    "    \n",
    "    train_df = pd.concat([train_df, train_class_df])\n",
    "    validation_df = pd.concat([validation_df, validation_class_df])\n",
    "    test_df = pd.concat([test_df, test_class_df])\n",
    "\n",
    "# Import the French CSV Files\n",
    "train_df = pd.read_csv('../data/fr_text/fr_train.csv')\n",
    "validation_df = pd.read_csv('../data/fr_text/fr_validation.csv')\n",
    "test_df = pd.read_csv('../data/fr_text/fr_test.csv')\n",
    "\n",
    "# Training data preparation\n",
    "train_texts, train_labels = train_df['text'], train_df['label']\n",
    "\n",
    "# Validation data preparation\n",
    "validation_texts, validation_labels = validation_df['text'], validation_df['label']\n",
    "\n",
    "# Test data preparation\n",
    "test_texts, test_labels = test_df['text'], test_df['label']\n",
    "\n",
    "# Print the number of samples per class for each dataset\n",
    "print(\"Total number of samples per class:\")\n",
    "print(\"Training :\")\n",
    "print(train_df['label'].value_counts())\n",
    "print(\"Validation :\")\n",
    "print(validation_df['label'].value_counts())\n",
    "print(\"Test :\")\n",
    "print(test_df['label'].value_counts())"
   ]
  },
  {
   "cell_type": "markdown",
   "metadata": {},
   "source": [
    "---"
   ]
  },
  {
   "cell_type": "markdown",
   "metadata": {},
   "source": [
    "## **DistilBert**"
   ]
  },
  {
   "cell_type": "code",
   "execution_count": 75,
   "metadata": {},
   "outputs": [
    {
     "name": "stderr",
     "output_type": "stream",
     "text": [
      "Some weights of DistilBertForSequenceClassification were not initialized from the model checkpoint at distilbert-base-uncased and are newly initialized: ['classifier.bias', 'classifier.weight', 'pre_classifier.bias', 'pre_classifier.weight']\n",
      "You should probably TRAIN this model on a down-stream task to be able to use it for predictions and inference.\n"
     ]
    }
   ],
   "source": [
    "# Loading the DistilBERT model\n",
    "distil_bert_tokenizer = DistilBertTokenizer.from_pretrained('distilbert-base-uncased')\n",
    "distil_bert_model = DistilBertForSequenceClassification.from_pretrained('distilbert-base-uncased', num_labels=6) # 6 classes of emotions"
   ]
  },
  {
   "cell_type": "code",
   "execution_count": 76,
   "metadata": {},
   "outputs": [],
   "source": [
    "# Move the model to the GPU\n",
    "device = torch.device('cuda' if torch.cuda.is_available() else 'cpu')\n",
    "distil_bert_model = distil_bert_model.to(device)"
   ]
  },
  {
   "cell_type": "code",
   "execution_count": 77,
   "metadata": {},
   "outputs": [],
   "source": [
    "train_encodings = distil_bert_tokenizer(train_texts.tolist(), truncation=True, padding=True, return_tensors='pt')\n",
    "train_labels = torch.tensor(train_labels.tolist())\n",
    "train_dataset = TensorDataset(train_encodings.input_ids, train_encodings.attention_mask, train_labels)"
   ]
  },
  {
   "cell_type": "code",
   "execution_count": 78,
   "metadata": {},
   "outputs": [],
   "source": [
    "# Preparation of validation data\n",
    "validation_encodings = distil_bert_tokenizer(validation_texts.tolist(), truncation=True, padding=True, return_tensors='pt')\n",
    "validation_labels = torch.tensor(validation_labels.tolist())\n",
    "validation_dataset = TensorDataset(validation_encodings.input_ids, validation_encodings.attention_mask, validation_labels)"
   ]
  },
  {
   "cell_type": "code",
   "execution_count": 79,
   "metadata": {},
   "outputs": [],
   "source": [
    "# Preparation of test data\n",
    "test_encodings = distil_bert_tokenizer(test_texts.tolist(), truncation=True, padding=True, return_tensors='pt')\n",
    "test_labels = torch.tensor(test_labels.tolist())\n",
    "test_dataset = TensorDataset(test_encodings.input_ids, test_encodings.attention_mask, test_labels)"
   ]
  },
  {
   "cell_type": "code",
   "execution_count": 80,
   "metadata": {},
   "outputs": [],
   "source": [
    "# Definition of optimizer, loss function and metrics\n",
    "lr = 5e-5\n",
    "optimizer = torch.optim.Adam(distil_bert_model.parameters(), lr=lr)\n",
    "loss = torch.nn.CrossEntropyLoss()\n",
    "metrics = ['accuracy']\n",
    "\n",
    "# Model compilation\n",
    "epochs = 15\n",
    "batch_size = 32\n",
    "\n",
    "train_loader = DataLoader(train_dataset, batch_size=batch_size, shuffle=True)\n",
    "validation_loader = DataLoader(validation_dataset, batch_size=batch_size)\n",
    "test_loader = DataLoader(test_dataset, batch_size=batch_size, shuffle=False)"
   ]
  },
  {
   "cell_type": "code",
   "execution_count": 81,
   "metadata": {},
   "outputs": [
    {
     "name": "stderr",
     "output_type": "stream",
     "text": [
      "Training: 100%|██████████| 94/94 [00:22<00:00,  4.27it/s, training_loss=51.339]\n",
      "Validating: 100%|██████████| 19/19 [00:01<00:00, 16.17it/s]\n"
     ]
    },
    {
     "name": "stdout",
     "output_type": "stream",
     "text": [
      "Epoch: 1, Training Loss: 164.4477, Validation Loss: 1.7936, Validation Accuracy: 0.1683\n"
     ]
    },
    {
     "name": "stderr",
     "output_type": "stream",
     "text": [
      "Training: 100%|██████████| 94/94 [00:21<00:00,  4.36it/s, training_loss=45.156]\n",
      "Validating: 100%|██████████| 19/19 [00:01<00:00, 16.18it/s]\n"
     ]
    },
    {
     "name": "stdout",
     "output_type": "stream",
     "text": [
      "Epoch: 2, Training Loss: 144.4269, Validation Loss: 1.7759, Validation Accuracy: 0.1933\n"
     ]
    },
    {
     "name": "stderr",
     "output_type": "stream",
     "text": [
      "Training: 100%|██████████| 94/94 [00:22<00:00,  4.27it/s, training_loss=40.000]\n",
      "Validating: 100%|██████████| 19/19 [00:01<00:00, 16.06it/s]\n"
     ]
    },
    {
     "name": "stdout",
     "output_type": "stream",
     "text": [
      "Epoch: 3, Training Loss: 127.4274, Validation Loss: 1.6642, Validation Accuracy: 0.2900\n"
     ]
    },
    {
     "name": "stderr",
     "output_type": "stream",
     "text": [
      "Training: 100%|██████████| 94/94 [00:22<00:00,  4.26it/s, training_loss=35.670]\n",
      "Validating: 100%|██████████| 19/19 [00:01<00:00, 16.05it/s]\n"
     ]
    },
    {
     "name": "stdout",
     "output_type": "stream",
     "text": [
      "Epoch: 4, Training Loss: 113.2051, Validation Loss: 1.4789, Validation Accuracy: 0.4000\n"
     ]
    },
    {
     "name": "stderr",
     "output_type": "stream",
     "text": [
      "Training: 100%|██████████| 94/94 [00:22<00:00,  4.23it/s, training_loss=31.873]\n",
      "Validating: 100%|██████████| 19/19 [00:01<00:00, 15.91it/s]\n"
     ]
    },
    {
     "name": "stdout",
     "output_type": "stream",
     "text": [
      "Epoch: 5, Training Loss: 101.1639, Validation Loss: 1.1217, Validation Accuracy: 0.6117\n"
     ]
    },
    {
     "name": "stderr",
     "output_type": "stream",
     "text": [
      "Training: 100%|██████████| 94/94 [00:22<00:00,  4.11it/s, training_loss=28.955]\n",
      "Validating: 100%|██████████| 19/19 [00:01<00:00, 14.90it/s]\n"
     ]
    },
    {
     "name": "stdout",
     "output_type": "stream",
     "text": [
      "Epoch: 6, Training Loss: 91.1871, Validation Loss: 1.1183, Validation Accuracy: 0.6500\n"
     ]
    },
    {
     "name": "stderr",
     "output_type": "stream",
     "text": [
      "Training: 100%|██████████| 94/94 [00:22<00:00,  4.21it/s, training_loss=26.228]\n",
      "Validating: 100%|██████████| 19/19 [00:01<00:00, 15.98it/s]\n"
     ]
    },
    {
     "name": "stdout",
     "output_type": "stream",
     "text": [
      "Epoch: 7, Training Loss: 82.7120, Validation Loss: 1.0426, Validation Accuracy: 0.6683\n"
     ]
    },
    {
     "name": "stderr",
     "output_type": "stream",
     "text": [
      "Training: 100%|██████████| 94/94 [00:22<00:00,  4.17it/s, training_loss=23.963]\n",
      "Validating: 100%|██████████| 19/19 [00:01<00:00, 15.08it/s]\n"
     ]
    },
    {
     "name": "stdout",
     "output_type": "stream",
     "text": [
      "Epoch: 8, Training Loss: 75.3939, Validation Loss: 1.1245, Validation Accuracy: 0.6767\n"
     ]
    },
    {
     "name": "stderr",
     "output_type": "stream",
     "text": [
      "Training: 100%|██████████| 94/94 [00:21<00:00,  4.30it/s, training_loss=21.944]\n",
      "Validating: 100%|██████████| 19/19 [00:01<00:00, 16.46it/s]\n"
     ]
    },
    {
     "name": "stdout",
     "output_type": "stream",
     "text": [
      "Epoch: 9, Training Loss: 68.9206, Validation Loss: 1.1315, Validation Accuracy: 0.6883\n"
     ]
    },
    {
     "name": "stderr",
     "output_type": "stream",
     "text": [
      "Training: 100%|██████████| 94/94 [00:21<00:00,  4.37it/s, training_loss=20.146]\n",
      "Validating: 100%|██████████| 19/19 [00:01<00:00, 16.46it/s]\n"
     ]
    },
    {
     "name": "stdout",
     "output_type": "stream",
     "text": [
      "Epoch: 10, Training Loss: 63.1816, Validation Loss: 1.1938, Validation Accuracy: 0.6683\n"
     ]
    },
    {
     "name": "stderr",
     "output_type": "stream",
     "text": [
      "Training: 100%|██████████| 94/94 [00:21<00:00,  4.41it/s, training_loss=18.538]\n",
      "Validating: 100%|██████████| 19/19 [00:01<00:00, 15.06it/s]\n"
     ]
    },
    {
     "name": "stdout",
     "output_type": "stream",
     "text": [
      "Epoch: 11, Training Loss: 58.0821, Validation Loss: 1.2199, Validation Accuracy: 0.7000\n"
     ]
    },
    {
     "name": "stderr",
     "output_type": "stream",
     "text": [
      "Training: 100%|██████████| 94/94 [00:21<00:00,  4.42it/s, training_loss=17.252]\n",
      "Validating: 100%|██████████| 19/19 [00:01<00:00, 16.41it/s]\n"
     ]
    },
    {
     "name": "stdout",
     "output_type": "stream",
     "text": [
      "Epoch: 12, Training Loss: 53.5123, Validation Loss: 1.3686, Validation Accuracy: 0.6933\n"
     ]
    },
    {
     "name": "stderr",
     "output_type": "stream",
     "text": [
      "Training: 100%|██████████| 94/94 [00:21<00:00,  4.37it/s, training_loss=15.931]\n",
      "Validating: 100%|██████████| 19/19 [00:01<00:00, 16.45it/s]\n"
     ]
    },
    {
     "name": "stdout",
     "output_type": "stream",
     "text": [
      "Epoch: 13, Training Loss: 49.4392, Validation Loss: 1.3914, Validation Accuracy: 0.6783\n"
     ]
    },
    {
     "name": "stderr",
     "output_type": "stream",
     "text": [
      "Training: 100%|██████████| 94/94 [00:21<00:00,  4.32it/s, training_loss=14.675]\n",
      "Validating: 100%|██████████| 19/19 [00:01<00:00, 15.66it/s]\n"
     ]
    },
    {
     "name": "stdout",
     "output_type": "stream",
     "text": [
      "Epoch: 14, Training Loss: 45.7487, Validation Loss: 1.5249, Validation Accuracy: 0.6617\n"
     ]
    },
    {
     "name": "stderr",
     "output_type": "stream",
     "text": [
      "Training: 100%|██████████| 94/94 [00:21<00:00,  4.35it/s, training_loss=13.614]\n",
      "Validating: 100%|██████████| 19/19 [00:01<00:00, 14.78it/s]"
     ]
    },
    {
     "name": "stdout",
     "output_type": "stream",
     "text": [
      "Epoch: 15, Training Loss: 42.4267, Validation Loss: 1.3826, Validation Accuracy: 0.6933\n"
     ]
    },
    {
     "name": "stderr",
     "output_type": "stream",
     "text": [
      "\n"
     ]
    }
   ],
   "source": [
    "# Start the history & best precision\n",
    "history = {\n",
    "    'train_loss': [],\n",
    "    'validation_loss': [],\n",
    "    'validation_accuracy': []\n",
    "}\n",
    "best_acc = 0.0\n",
    "\n",
    "# Define the regularization strength for penalty (avoid overfitting)\n",
    "l2_lambda = 0.001\n",
    "\n",
    "start_time = time.time()\n",
    "for epoch in range(epochs):\n",
    "    # Training\n",
    "    distil_bert_model.train()\n",
    "    total_loss = 0\n",
    "    train_loader_progress = tqdm(train_loader, desc='Training')\n",
    "    for batch in train_loader_progress:\n",
    "        optimizer.zero_grad()\n",
    "        input_ids, attention_mask, labels = batch\n",
    "\n",
    "        # Move data to GPU\n",
    "        input_ids = input_ids.to(device)\n",
    "        attention_mask = attention_mask.to(device)\n",
    "        labels = labels.to(device)\n",
    "\n",
    "        outputs = distil_bert_model(input_ids, attention_mask=attention_mask, labels=labels)\n",
    "        loss = outputs.loss\n",
    "\n",
    "        # Add L2 regularization\n",
    "        l2_norm = sum(p.pow(2.0).sum() for p in distil_bert_model.parameters())\n",
    "        loss = loss + l2_lambda * l2_norm\n",
    "\n",
    "        total_loss += loss.item()\n",
    "        loss.backward()\n",
    "        optimizer.step()\n",
    "        train_loader_progress.set_postfix({'training_loss': '{:.3f}'.format(loss.item()/len(batch))})\n",
    "\n",
    "    avg_train_loss = total_loss / len(train_loader)\n",
    "    history['train_loss'].append(avg_train_loss)\n",
    "\n",
    "    # Validation\n",
    "    distil_bert_model.eval()\n",
    "    total_val_loss = 0\n",
    "    total_correct = 0\n",
    "    total_samples = 0\n",
    "    validation_loader_progress = tqdm(validation_loader, desc='Validating')\n",
    "    for batch in validation_loader_progress:\n",
    "        input_ids, attention_mask, labels = batch\n",
    "\n",
    "        # Move data to GPU\n",
    "        input_ids = input_ids.to(device)\n",
    "        attention_mask = attention_mask.to(device)\n",
    "        labels = labels.to(device)\n",
    "\n",
    "        with torch.no_grad():\n",
    "            outputs = distil_bert_model(input_ids, attention_mask=attention_mask, labels=labels)\n",
    "        loss = outputs.loss\n",
    "        total_val_loss += loss.item()\n",
    "\n",
    "        # Accuracy calculation\n",
    "        _, predictions = torch.max(outputs.logits, dim=1)\n",
    "        correct = (predictions == labels).sum().item()\n",
    "        total_correct += correct\n",
    "        total_samples += labels.size(0)\n",
    "\n",
    "    avg_val_loss = total_val_loss / len(validation_loader)\n",
    "    val_accuracy = total_correct / total_samples\n",
    "    history['validation_loss'].append(avg_val_loss)\n",
    "    history['validation_accuracy'].append(val_accuracy)\n",
    "\n",
    "    print(f\"Epoch: {epoch+1}, Training Loss: {avg_train_loss:.4f}, Validation Loss: {avg_val_loss:.4f}, Validation Accuracy: {val_accuracy:.4f}\")\n",
    "\n",
    "    # Save the best weigths\n",
    "    if val_accuracy > best_acc:\n",
    "        best_acc = val_accuracy\n",
    "        if not os.path.exists('../weigths'):\n",
    "            os.makedirs('../weigths')\n",
    "        torch.save(distil_bert_model.state_dict(), '../weigths/fr_best_distilbert.pth')\n",
    "\n",
    "end_time = time.time()"
   ]
  },
  {
   "cell_type": "code",
   "execution_count": 82,
   "metadata": {},
   "outputs": [
    {
     "name": "stdout",
     "output_type": "stream",
     "text": [
      "Training Time --> 5.859820946057638\n"
     ]
    }
   ],
   "source": [
    "time_train_distilbert = end_time - start_time\n",
    "print(f\"Training Time --> {time_train_distilbert/60}\")"
   ]
  },
  {
   "cell_type": "code",
   "execution_count": 83,
   "metadata": {},
   "outputs": [
    {
     "data": {
      "image/png": "[encoded data removed]",
      "text/plain": [
       "<Figure size 1500x500 with 3 Axes>"
      ]
     },
     "metadata": {},
     "output_type": "display_data"
    }
   ],
   "source": [
    "show_history(history)\n",
    "plot_history(history, path=\"../history/fr_distilbert_training.png\")\n",
    "plt.close()"
   ]
  },
  {
   "cell_type": "markdown",
   "metadata": {},
   "source": [
    "---"
   ]
  },
  {
   "cell_type": "code",
   "execution_count": 84,
   "metadata": {},
   "outputs": [
    {
     "name": "stderr",
     "output_type": "stream",
     "text": [
      "Some weights of DistilBertForSequenceClassification were not initialized from the model checkpoint at distilbert-base-uncased and are newly initialized: ['classifier.bias', 'classifier.weight', 'pre_classifier.bias', 'pre_classifier.weight']\n",
      "You should probably TRAIN this model on a down-stream task to be able to use it for predictions and inference.\n"
     ]
    }
   ],
   "source": [
    "tokenizer = DistilBertTokenizer.from_pretrained('distilbert-base-uncased')\n",
    "distil_bert_model = DistilBertForSequenceClassification.from_pretrained('distilbert-base-uncased', num_labels=6)\n",
    "distil_bert_model.load_state_dict(torch.load('../weigths/fr_best_distilbert.pth'))\n",
    "\n",
    "# Move the model to the GPU\n",
    "distil_bert_model = distil_bert_model.to(device)"
   ]
  },
  {
   "cell_type": "code",
   "execution_count": 86,
   "metadata": {},
   "outputs": [
    {
     "name": "stderr",
     "output_type": "stream",
     "text": [
      "Testing: 100%|██████████| 19/19 [00:01<00:00, 13.45it/s]"
     ]
    },
    {
     "name": "stdout",
     "output_type": "stream",
     "text": [
      "Test Loss: 1.00, Test Accuracy: 0.75\n"
     ]
    },
    {
     "name": "stderr",
     "output_type": "stream",
     "text": [
      "\n"
     ]
    }
   ],
   "source": [
    "# Evaluation\n",
    "distil_bert_model.eval()\n",
    "total_test_loss = 0\n",
    "total_correct = 0\n",
    "total_samples = 0\n",
    "test_loader_progress = tqdm(test_loader, desc='Testing')\n",
    "for batch in test_loader_progress:\n",
    "    input_ids, attention_mask, labels = batch\n",
    "\n",
    "    # Move data to GPU\n",
    "    input_ids = input_ids.to(device)\n",
    "    attention_mask = attention_mask.to(device)\n",
    "    labels = labels.to(device)\n",
    "\n",
    "    with torch.no_grad():\n",
    "        outputs = distil_bert_model(input_ids, attention_mask=attention_mask, labels=labels)\n",
    "    loss = outputs.loss\n",
    "    total_test_loss += loss.item()\n",
    "\n",
    "    # Accuracy calculation\n",
    "    _, predictions = torch.max(outputs.logits, dim=1)\n",
    "    correct = (predictions == labels).sum().item()\n",
    "    total_correct += correct\n",
    "    total_samples += labels.size(0)\n",
    "\n",
    "avg_test_loss = total_test_loss / len(test_loader)\n",
    "test_accuracy = total_correct / total_samples\n",
    "\n",
    "print(f\"Test Loss: {avg_test_loss:.2f}, Test Accuracy: {test_accuracy:.2f}\")"
   ]
  },
  {
   "cell_type": "markdown",
   "metadata": {},
   "source": [
    "---"
   ]
  }
 ],
 "metadata": {
  "kernelspec": {
   "display_name": ".env",
   "language": "python",
   "name": "python3"
  },
  "language_info": {
   "codemirror_mode": {
    "name": "ipython",
    "version": 3
   },
   "file_extension": ".py",
   "mimetype": "text/x-python",
   "name": "python",
   "nbconvert_exporter": "python",
   "pygments_lexer": "ipython3",
   "version": "3.11.7"
  }
 },
 "nbformat": 4,
 "nbformat_minor": 2
}
